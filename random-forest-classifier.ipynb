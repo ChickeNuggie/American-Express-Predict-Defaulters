{
 "cells": [
  {
   "cell_type": "code",
   "execution_count": 1,
   "id": "737b506a",
   "metadata": {
    "_cell_guid": "b1076dfc-b9ad-4769-8c92-a6c4dae69d19",
    "_uuid": "8f2839f25d086af736a60e9eeb907d3b93b6e0e5",
    "execution": {
     "iopub.execute_input": "2022-08-28T18:25:38.651351Z",
     "iopub.status.busy": "2022-08-28T18:25:38.650930Z",
     "iopub.status.idle": "2022-08-28T18:25:38.666751Z",
     "shell.execute_reply": "2022-08-28T18:25:38.665539Z"
    },
    "papermill": {
     "duration": 0.030085,
     "end_time": "2022-08-28T18:25:38.669182",
     "exception": false,
     "start_time": "2022-08-28T18:25:38.639097",
     "status": "completed"
    },
    "tags": []
   },
   "outputs": [
    {
     "data": {
      "text/plain": [
       "['sample_submission.csv',\n",
       " 'train_data.csv',\n",
       " 'test_data.csv',\n",
       " 'train_labels.csv']"
      ]
     },
     "execution_count": 1,
     "metadata": {},
     "output_type": "execute_result"
    }
   ],
   "source": [
    "import os\n",
    "os.listdir('../input/amex-default-prediction')"
   ]
  },
  {
   "cell_type": "code",
   "execution_count": 2,
   "id": "636d9c68",
   "metadata": {
    "execution": {
     "iopub.execute_input": "2022-08-28T18:25:38.687623Z",
     "iopub.status.busy": "2022-08-28T18:25:38.687212Z",
     "iopub.status.idle": "2022-08-28T18:25:58.540912Z",
     "shell.execute_reply": "2022-08-28T18:25:58.539177Z"
    },
    "papermill": {
     "duration": 19.865658,
     "end_time": "2022-08-28T18:25:58.543367",
     "exception": false,
     "start_time": "2022-08-28T18:25:38.677709",
     "status": "completed"
    },
    "tags": []
   },
   "outputs": [
    {
     "name": "stdout",
     "output_type": "stream",
     "text": [
      "5531451\n",
      "(5531451, 190)\n"
     ]
    }
   ],
   "source": [
    "import numpy as np\n",
    "import pandas as pd\n",
    "from sklearn.model_selection import train_test_split\n",
    "import gc\n",
    "\n",
    "df_train = pd.read_parquet(\"../input/train-test-parquet/train.parquet\")\n",
    "df_train_labels = pd.read_csv(\"../input/amex-default-prediction/train_labels.csv\")\n",
    "\n",
    "print(len(df_train))\n",
    "print(df_train.shape)"
   ]
  },
  {
   "cell_type": "code",
   "execution_count": 3,
   "id": "c9bb9467",
   "metadata": {
    "execution": {
     "iopub.execute_input": "2022-08-28T18:25:58.562321Z",
     "iopub.status.busy": "2022-08-28T18:25:58.561947Z",
     "iopub.status.idle": "2022-08-28T18:26:00.728418Z",
     "shell.execute_reply": "2022-08-28T18:26:00.726863Z"
    },
    "papermill": {
     "duration": 2.179395,
     "end_time": "2022-08-28T18:26:00.731148",
     "exception": false,
     "start_time": "2022-08-28T18:25:58.551753",
     "status": "completed"
    },
    "tags": []
   },
   "outputs": [
    {
     "name": "stdout",
     "output_type": "stream",
     "text": [
      "                                               customer_ID         S_2  \\\n",
      "12       0000099d6bd597052cdcda90ffabf56573fe9d7c79be5f...  2018-03-13   \n",
      "25       00000fd6641609c6ece5454664794f0340ad84dddce9a2...  2018-03-25   \n",
      "38       00001b22f846c82c51f6e3958ccd81970162bae8b007e8...  2018-03-12   \n",
      "51       000041bdba6ecadd89a52d11886e8eaaec9325906c9723...  2018-03-29   \n",
      "64       00007889e4fcd2614b6cbe7f8f3d2e5c728eca32d9eb8a...  2018-03-30   \n",
      "...                                                    ...         ...   \n",
      "5531398  ffff41c8a52833b56430603969b9ca48d208e7c192c6a4...  2018-03-31   \n",
      "5531411  ffff518bb2075e4816ee3fe9f3b152c57fc0e6f01bf7fd...  2018-03-22   \n",
      "5531424  ffff9984b999fccb2b6127635ed0736dda94e544e67e02...  2018-03-07   \n",
      "5531437  ffffa5c46bc8de74f5a4554e74e239c8dee6b9baf38814...  2018-03-23   \n",
      "5531450  fffff1d38b785cef84adeace64f8f83db3a0c31e8d92ea...  2018-03-14   \n",
      "\n",
      "              P_2  D_39       B_1       B_2       R_1       S_3  D_41  \\\n",
      "12       0.934745     0  0.009382  1.007647  0.006104  0.135021   0.0   \n",
      "25       0.880519     6  0.034684  1.004028  0.006911  0.165509   0.0   \n",
      "38       0.880875     0  0.004284  0.812649  0.006450       NaN   0.0   \n",
      "51       0.621776     0  0.012564  1.006183  0.007829  0.287766   0.0   \n",
      "64       0.871900     0  0.007679  0.815746  0.001247       NaN   0.0   \n",
      "...           ...   ...       ...       ...       ...       ...   ...   \n",
      "5531398  0.844229    15  0.028515  1.009866  0.001928  0.128707   0.0   \n",
      "5531411  0.831279     1  0.292360  0.055656  0.006953       NaN   0.0   \n",
      "5531424  0.800522     9  0.020563  1.007023  0.000957  0.066648   0.0   \n",
      "5531437  0.754129     0  0.015838  0.714486  0.000993  0.408849   0.0   \n",
      "5531450  0.982175     0  0.000077  0.992880  0.000809  0.119165   0.0   \n",
      "\n",
      "              B_3  ...  D_136  D_137  D_138  D_139  D_140     D_141     D_142  \\\n",
      "12       0.007174  ...     -1     -1     -1      0      0  0.000000       NaN   \n",
      "25       0.005068  ...     -1     -1     -1      0      0  0.000000       NaN   \n",
      "38       0.007196  ...     -1     -1     -1      0      0  0.000000       NaN   \n",
      "51       0.009937  ...     -1     -1     -1      0      0  0.000000       NaN   \n",
      "64       0.005528  ...     -1     -1     -1      0      0  0.000000       NaN   \n",
      "...           ...  ...    ...    ...    ...    ...    ...       ...       ...   \n",
      "5531398  0.005893  ...     -1     -1     -1      0      0  0.000000       NaN   \n",
      "5531411  0.233078  ...     -1     -1     -1      0      0  0.000000       NaN   \n",
      "5531424  0.006314  ...     -1     -1     -1      0      0  0.000000       NaN   \n",
      "5531437  0.050048  ...     -1     -1     -1      1      0  0.949723  0.446255   \n",
      "5531450  0.014092  ...     -1     -1     -1      0      0  0.000000       NaN   \n",
      "\n",
      "         D_143     D_144  D_145  \n",
      "12           0  0.002970      0  \n",
      "25           0  0.003169      0  \n",
      "38           0  0.000834      0  \n",
      "51           0  0.005560      0  \n",
      "64           0  0.006944      0  \n",
      "...        ...       ...    ...  \n",
      "5531398      0  0.003009      0  \n",
      "5531411      0  0.009230      0  \n",
      "5531424      0  0.000340      0  \n",
      "5531437      1  0.002502      2  \n",
      "5531450      0  0.003184      0  \n",
      "\n",
      "[458913 rows x 190 columns]\n"
     ]
    }
   ],
   "source": [
    "# Get only the latest transaction of each customer_ID\n",
    "df_train = df_train.groupby('customer_ID').tail(1)\n",
    "print(df_train)"
   ]
  },
  {
   "cell_type": "code",
   "execution_count": 4,
   "id": "ea4b5a1a",
   "metadata": {
    "execution": {
     "iopub.execute_input": "2022-08-28T18:26:00.749481Z",
     "iopub.status.busy": "2022-08-28T18:26:00.749115Z",
     "iopub.status.idle": "2022-08-28T18:26:01.338131Z",
     "shell.execute_reply": "2022-08-28T18:26:01.336765Z"
    },
    "papermill": {
     "duration": 0.601005,
     "end_time": "2022-08-28T18:26:01.340605",
     "exception": false,
     "start_time": "2022-08-28T18:26:00.739600",
     "status": "completed"
    },
    "tags": []
   },
   "outputs": [
    {
     "name": "stdout",
     "output_type": "stream",
     "text": [
      "                                               customer_ID         S_2  \\\n",
      "12       0000099d6bd597052cdcda90ffabf56573fe9d7c79be5f...  2018-03-13   \n",
      "25       00000fd6641609c6ece5454664794f0340ad84dddce9a2...  2018-03-25   \n",
      "38       00001b22f846c82c51f6e3958ccd81970162bae8b007e8...  2018-03-12   \n",
      "51       000041bdba6ecadd89a52d11886e8eaaec9325906c9723...  2018-03-29   \n",
      "64       00007889e4fcd2614b6cbe7f8f3d2e5c728eca32d9eb8a...  2018-03-30   \n",
      "...                                                    ...         ...   \n",
      "5531398  ffff41c8a52833b56430603969b9ca48d208e7c192c6a4...  2018-03-31   \n",
      "5531411  ffff518bb2075e4816ee3fe9f3b152c57fc0e6f01bf7fd...  2018-03-22   \n",
      "5531424  ffff9984b999fccb2b6127635ed0736dda94e544e67e02...  2018-03-07   \n",
      "5531437  ffffa5c46bc8de74f5a4554e74e239c8dee6b9baf38814...  2018-03-23   \n",
      "5531450  fffff1d38b785cef84adeace64f8f83db3a0c31e8d92ea...  2018-03-14   \n",
      "\n",
      "              P_2  D_39       B_1       B_2       R_1       S_3  D_41  \\\n",
      "12       0.934745     0  0.009382  1.007647  0.006104  0.135021   0.0   \n",
      "25       0.880519     6  0.034684  1.004028  0.006911  0.165509   0.0   \n",
      "38       0.880875     0  0.004284  0.812649  0.006450       NaN   0.0   \n",
      "51       0.621776     0  0.012564  1.006183  0.007829  0.287766   0.0   \n",
      "64       0.871900     0  0.007679  0.815746  0.001247       NaN   0.0   \n",
      "...           ...   ...       ...       ...       ...       ...   ...   \n",
      "5531398  0.844229    15  0.028515  1.009866  0.001928  0.128707   0.0   \n",
      "5531411  0.831279     1  0.292360  0.055656  0.006953       NaN   0.0   \n",
      "5531424  0.800522     9  0.020563  1.007023  0.000957  0.066648   0.0   \n",
      "5531437  0.754129     0  0.015838  0.714486  0.000993  0.408849   0.0   \n",
      "5531450  0.982175     0  0.000077  0.992880  0.000809  0.119165   0.0   \n",
      "\n",
      "              B_3  ...  D_135  D_136  D_137  D_138  D_139  D_140     D_141  \\\n",
      "12       0.007174  ...     -1     -1     -1     -1      0      0  0.000000   \n",
      "25       0.005068  ...     -1     -1     -1     -1      0      0  0.000000   \n",
      "38       0.007196  ...     -1     -1     -1     -1      0      0  0.000000   \n",
      "51       0.009937  ...     -1     -1     -1     -1      0      0  0.000000   \n",
      "64       0.005528  ...     -1     -1     -1     -1      0      0  0.000000   \n",
      "...           ...  ...    ...    ...    ...    ...    ...    ...       ...   \n",
      "5531398  0.005893  ...     -1     -1     -1     -1      0      0  0.000000   \n",
      "5531411  0.233078  ...     -1     -1     -1     -1      0      0  0.000000   \n",
      "5531424  0.006314  ...     -1     -1     -1     -1      0      0  0.000000   \n",
      "5531437  0.050048  ...     -1     -1     -1     -1      1      0  0.949723   \n",
      "5531450  0.014092  ...     -1     -1     -1     -1      0      0  0.000000   \n",
      "\n",
      "         D_143     D_144  D_145  \n",
      "12           0  0.002970      0  \n",
      "25           0  0.003169      0  \n",
      "38           0  0.000834      0  \n",
      "51           0  0.005560      0  \n",
      "64           0  0.006944      0  \n",
      "...        ...       ...    ...  \n",
      "5531398      0  0.003009      0  \n",
      "5531411      0  0.009230      0  \n",
      "5531424      0  0.000340      0  \n",
      "5531437      1  0.002502      2  \n",
      "5531450      0  0.003184      0  \n",
      "\n",
      "[458913 rows x 174 columns]\n"
     ]
    }
   ],
   "source": [
    "#((df_train.isnull() | df_train.isna()).sum() * 100 / df_train.index.size).round(5)\n",
    "#count_nulls = (df_train.isnull() | df_train.isna()).mean().round(5)*100 # checks for NAs\n",
    "#count_nulls = count_nulls.drop(count_nulls[count_nulls <= 50].index)\n",
    "#print(count_nulls)\n",
    "\n",
    "df_train = df_train.drop(df_train.columns[df_train.apply(lambda col: (col.isnull() | col.isna()).mean().round(5)*100 >= 50)], axis=1)\n",
    "print(df_train)"
   ]
  },
  {
   "cell_type": "code",
   "execution_count": 5,
   "id": "e15e5b22",
   "metadata": {
    "execution": {
     "iopub.execute_input": "2022-08-28T18:26:01.359433Z",
     "iopub.status.busy": "2022-08-28T18:26:01.359059Z",
     "iopub.status.idle": "2022-08-28T18:26:11.642517Z",
     "shell.execute_reply": "2022-08-28T18:26:11.641457Z"
    },
    "papermill": {
     "duration": 10.29607,
     "end_time": "2022-08-28T18:26:11.645280",
     "exception": false,
     "start_time": "2022-08-28T18:26:01.349210",
     "status": "completed"
    },
    "tags": []
   },
   "outputs": [],
   "source": [
    "df_train = pd.merge(df_train, df_train_labels, on='customer_ID' )"
   ]
  },
  {
   "cell_type": "code",
   "execution_count": 6,
   "id": "eec69761",
   "metadata": {
    "execution": {
     "iopub.execute_input": "2022-08-28T18:26:11.663899Z",
     "iopub.status.busy": "2022-08-28T18:26:11.663486Z",
     "iopub.status.idle": "2022-08-28T18:26:11.840324Z",
     "shell.execute_reply": "2022-08-28T18:26:11.839234Z"
    },
    "papermill": {
     "duration": 0.188883,
     "end_time": "2022-08-28T18:26:11.842855",
     "exception": false,
     "start_time": "2022-08-28T18:26:11.653972",
     "status": "completed"
    },
    "tags": []
   },
   "outputs": [
    {
     "name": "stdout",
     "output_type": "stream",
     "text": [
      "B_30       int8\n",
      "B_38       int8\n",
      "D_114      int8\n",
      "D_116      int8\n",
      "D_117      int8\n",
      "D_120      int8\n",
      "D_126      int8\n",
      "D_63       int8\n",
      "D_64       int8\n",
      "D_66       int8\n",
      "D_68       int8\n",
      "target    int64\n",
      "dtype: object\n",
      "B_30       int8\n",
      "B_38       int8\n",
      "D_114      int8\n",
      "D_116      int8\n",
      "D_117      int8\n",
      "D_120      int8\n",
      "D_126      int8\n",
      "D_63       int8\n",
      "D_64       int8\n",
      "D_66       int8\n",
      "D_68       int8\n",
      "target    int64\n",
      "dtype: object\n"
     ]
    }
   ],
   "source": [
    "cat_var = ['B_30', 'B_38', 'D_114', 'D_116', 'D_117', 'D_120', 'D_126', 'D_63', 'D_64', 'D_66', 'D_68', 'target']\n",
    "df_train[cat_var] = df_train[cat_var].fillna(0)\n",
    "\n",
    "print(df_train[cat_var].dtypes)\n",
    "df_train[['D_63','D_64']] = df_train[['D_63','D_64']].astype('category').apply(lambda x: x.cat.codes)\n",
    "print(df_train[cat_var].dtypes)"
   ]
  },
  {
   "cell_type": "code",
   "execution_count": 7,
   "id": "62afec1c",
   "metadata": {
    "execution": {
     "iopub.execute_input": "2022-08-28T18:26:11.862033Z",
     "iopub.status.busy": "2022-08-28T18:26:11.861365Z",
     "iopub.status.idle": "2022-08-28T18:26:11.935187Z",
     "shell.execute_reply": "2022-08-28T18:26:11.933965Z"
    },
    "papermill": {
     "duration": 0.086331,
     "end_time": "2022-08-28T18:26:11.937795",
     "exception": false,
     "start_time": "2022-08-28T18:26:11.851464",
     "status": "completed"
    },
    "tags": []
   },
   "outputs": [
    {
     "data": {
      "text/plain": [
       "0"
      ]
     },
     "execution_count": 7,
     "metadata": {},
     "output_type": "execute_result"
    }
   ],
   "source": [
    "df_train.isnull().all().sum() # check if entries of all rows are empty"
   ]
  },
  {
   "cell_type": "code",
   "execution_count": 8,
   "id": "6bd4db8e",
   "metadata": {
    "execution": {
     "iopub.execute_input": "2022-08-28T18:26:11.958759Z",
     "iopub.status.busy": "2022-08-28T18:26:11.957538Z",
     "iopub.status.idle": "2022-08-28T18:26:12.236741Z",
     "shell.execute_reply": "2022-08-28T18:26:12.235615Z"
    },
    "papermill": {
     "duration": 0.291518,
     "end_time": "2022-08-28T18:26:12.239128",
     "exception": false,
     "start_time": "2022-08-28T18:26:11.947610",
     "status": "completed"
    },
    "tags": []
   },
   "outputs": [
    {
     "data": {
      "text/html": [
       "<div>\n",
       "<style scoped>\n",
       "    .dataframe tbody tr th:only-of-type {\n",
       "        vertical-align: middle;\n",
       "    }\n",
       "\n",
       "    .dataframe tbody tr th {\n",
       "        vertical-align: top;\n",
       "    }\n",
       "\n",
       "    .dataframe thead th {\n",
       "        text-align: right;\n",
       "    }\n",
       "</style>\n",
       "<table border=\"1\" class=\"dataframe\">\n",
       "  <thead>\n",
       "    <tr style=\"text-align: right;\">\n",
       "      <th></th>\n",
       "      <th>S_2</th>\n",
       "      <th>P_2</th>\n",
       "      <th>D_39</th>\n",
       "      <th>B_1</th>\n",
       "      <th>B_2</th>\n",
       "      <th>R_1</th>\n",
       "      <th>S_3</th>\n",
       "      <th>D_41</th>\n",
       "      <th>B_3</th>\n",
       "      <th>D_43</th>\n",
       "      <th>...</th>\n",
       "      <th>D_136</th>\n",
       "      <th>D_137</th>\n",
       "      <th>D_138</th>\n",
       "      <th>D_139</th>\n",
       "      <th>D_140</th>\n",
       "      <th>D_141</th>\n",
       "      <th>D_143</th>\n",
       "      <th>D_144</th>\n",
       "      <th>D_145</th>\n",
       "      <th>target</th>\n",
       "    </tr>\n",
       "    <tr>\n",
       "      <th>customer_ID</th>\n",
       "      <th></th>\n",
       "      <th></th>\n",
       "      <th></th>\n",
       "      <th></th>\n",
       "      <th></th>\n",
       "      <th></th>\n",
       "      <th></th>\n",
       "      <th></th>\n",
       "      <th></th>\n",
       "      <th></th>\n",
       "      <th></th>\n",
       "      <th></th>\n",
       "      <th></th>\n",
       "      <th></th>\n",
       "      <th></th>\n",
       "      <th></th>\n",
       "      <th></th>\n",
       "      <th></th>\n",
       "      <th></th>\n",
       "      <th></th>\n",
       "      <th></th>\n",
       "    </tr>\n",
       "  </thead>\n",
       "  <tbody>\n",
       "    <tr>\n",
       "      <th>0000099d6bd597052cdcda90ffabf56573fe9d7c79be5fbac11a8ed792feb62a</th>\n",
       "      <td>2018-03-13</td>\n",
       "      <td>0.934745</td>\n",
       "      <td>0</td>\n",
       "      <td>0.009382</td>\n",
       "      <td>1.007647</td>\n",
       "      <td>0.006104</td>\n",
       "      <td>0.135021</td>\n",
       "      <td>0.0</td>\n",
       "      <td>0.007174</td>\n",
       "      <td>NaN</td>\n",
       "      <td>...</td>\n",
       "      <td>-1</td>\n",
       "      <td>-1</td>\n",
       "      <td>-1</td>\n",
       "      <td>0</td>\n",
       "      <td>0</td>\n",
       "      <td>0.000000</td>\n",
       "      <td>0</td>\n",
       "      <td>0.002970</td>\n",
       "      <td>0</td>\n",
       "      <td>0</td>\n",
       "    </tr>\n",
       "    <tr>\n",
       "      <th>00000fd6641609c6ece5454664794f0340ad84dddce9a267a310b5ae68e9d8e5</th>\n",
       "      <td>2018-03-25</td>\n",
       "      <td>0.880519</td>\n",
       "      <td>6</td>\n",
       "      <td>0.034684</td>\n",
       "      <td>1.004028</td>\n",
       "      <td>0.006911</td>\n",
       "      <td>0.165509</td>\n",
       "      <td>0.0</td>\n",
       "      <td>0.005068</td>\n",
       "      <td>0.060646</td>\n",
       "      <td>...</td>\n",
       "      <td>-1</td>\n",
       "      <td>-1</td>\n",
       "      <td>-1</td>\n",
       "      <td>0</td>\n",
       "      <td>0</td>\n",
       "      <td>0.000000</td>\n",
       "      <td>0</td>\n",
       "      <td>0.003169</td>\n",
       "      <td>0</td>\n",
       "      <td>0</td>\n",
       "    </tr>\n",
       "    <tr>\n",
       "      <th>00001b22f846c82c51f6e3958ccd81970162bae8b007e80662ef27519fcc18c1</th>\n",
       "      <td>2018-03-12</td>\n",
       "      <td>0.880875</td>\n",
       "      <td>0</td>\n",
       "      <td>0.004284</td>\n",
       "      <td>0.812649</td>\n",
       "      <td>0.006450</td>\n",
       "      <td>NaN</td>\n",
       "      <td>0.0</td>\n",
       "      <td>0.007196</td>\n",
       "      <td>NaN</td>\n",
       "      <td>...</td>\n",
       "      <td>-1</td>\n",
       "      <td>-1</td>\n",
       "      <td>-1</td>\n",
       "      <td>0</td>\n",
       "      <td>0</td>\n",
       "      <td>0.000000</td>\n",
       "      <td>0</td>\n",
       "      <td>0.000834</td>\n",
       "      <td>0</td>\n",
       "      <td>0</td>\n",
       "    </tr>\n",
       "    <tr>\n",
       "      <th>000041bdba6ecadd89a52d11886e8eaaec9325906c9723355abb5ca523658edc</th>\n",
       "      <td>2018-03-29</td>\n",
       "      <td>0.621776</td>\n",
       "      <td>0</td>\n",
       "      <td>0.012564</td>\n",
       "      <td>1.006183</td>\n",
       "      <td>0.007829</td>\n",
       "      <td>0.287766</td>\n",
       "      <td>0.0</td>\n",
       "      <td>0.009937</td>\n",
       "      <td>0.046104</td>\n",
       "      <td>...</td>\n",
       "      <td>-1</td>\n",
       "      <td>-1</td>\n",
       "      <td>-1</td>\n",
       "      <td>0</td>\n",
       "      <td>0</td>\n",
       "      <td>0.000000</td>\n",
       "      <td>0</td>\n",
       "      <td>0.005560</td>\n",
       "      <td>0</td>\n",
       "      <td>0</td>\n",
       "    </tr>\n",
       "    <tr>\n",
       "      <th>00007889e4fcd2614b6cbe7f8f3d2e5c728eca32d9eb8ad51ca8b8c4a24cefed</th>\n",
       "      <td>2018-03-30</td>\n",
       "      <td>0.871900</td>\n",
       "      <td>0</td>\n",
       "      <td>0.007679</td>\n",
       "      <td>0.815746</td>\n",
       "      <td>0.001247</td>\n",
       "      <td>NaN</td>\n",
       "      <td>0.0</td>\n",
       "      <td>0.005528</td>\n",
       "      <td>0.044671</td>\n",
       "      <td>...</td>\n",
       "      <td>-1</td>\n",
       "      <td>-1</td>\n",
       "      <td>-1</td>\n",
       "      <td>0</td>\n",
       "      <td>0</td>\n",
       "      <td>0.000000</td>\n",
       "      <td>0</td>\n",
       "      <td>0.006944</td>\n",
       "      <td>0</td>\n",
       "      <td>0</td>\n",
       "    </tr>\n",
       "    <tr>\n",
       "      <th>...</th>\n",
       "      <td>...</td>\n",
       "      <td>...</td>\n",
       "      <td>...</td>\n",
       "      <td>...</td>\n",
       "      <td>...</td>\n",
       "      <td>...</td>\n",
       "      <td>...</td>\n",
       "      <td>...</td>\n",
       "      <td>...</td>\n",
       "      <td>...</td>\n",
       "      <td>...</td>\n",
       "      <td>...</td>\n",
       "      <td>...</td>\n",
       "      <td>...</td>\n",
       "      <td>...</td>\n",
       "      <td>...</td>\n",
       "      <td>...</td>\n",
       "      <td>...</td>\n",
       "      <td>...</td>\n",
       "      <td>...</td>\n",
       "      <td>...</td>\n",
       "    </tr>\n",
       "    <tr>\n",
       "      <th>ffff41c8a52833b56430603969b9ca48d208e7c192c6a4081a6acc28cf4f8af7</th>\n",
       "      <td>2018-03-31</td>\n",
       "      <td>0.844229</td>\n",
       "      <td>15</td>\n",
       "      <td>0.028515</td>\n",
       "      <td>1.009866</td>\n",
       "      <td>0.001928</td>\n",
       "      <td>0.128707</td>\n",
       "      <td>0.0</td>\n",
       "      <td>0.005893</td>\n",
       "      <td>0.113053</td>\n",
       "      <td>...</td>\n",
       "      <td>-1</td>\n",
       "      <td>-1</td>\n",
       "      <td>-1</td>\n",
       "      <td>0</td>\n",
       "      <td>0</td>\n",
       "      <td>0.000000</td>\n",
       "      <td>0</td>\n",
       "      <td>0.003009</td>\n",
       "      <td>0</td>\n",
       "      <td>0</td>\n",
       "    </tr>\n",
       "    <tr>\n",
       "      <th>ffff518bb2075e4816ee3fe9f3b152c57fc0e6f01bf7fdd3e5b57cfcbee30286</th>\n",
       "      <td>2018-03-22</td>\n",
       "      <td>0.831279</td>\n",
       "      <td>1</td>\n",
       "      <td>0.292360</td>\n",
       "      <td>0.055656</td>\n",
       "      <td>0.006953</td>\n",
       "      <td>NaN</td>\n",
       "      <td>0.0</td>\n",
       "      <td>0.233078</td>\n",
       "      <td>0.134540</td>\n",
       "      <td>...</td>\n",
       "      <td>-1</td>\n",
       "      <td>-1</td>\n",
       "      <td>-1</td>\n",
       "      <td>0</td>\n",
       "      <td>0</td>\n",
       "      <td>0.000000</td>\n",
       "      <td>0</td>\n",
       "      <td>0.009230</td>\n",
       "      <td>0</td>\n",
       "      <td>0</td>\n",
       "    </tr>\n",
       "    <tr>\n",
       "      <th>ffff9984b999fccb2b6127635ed0736dda94e544e67e026eee4d20f680639ff6</th>\n",
       "      <td>2018-03-07</td>\n",
       "      <td>0.800522</td>\n",
       "      <td>9</td>\n",
       "      <td>0.020563</td>\n",
       "      <td>1.007023</td>\n",
       "      <td>0.000957</td>\n",
       "      <td>0.066648</td>\n",
       "      <td>0.0</td>\n",
       "      <td>0.006314</td>\n",
       "      <td>0.049778</td>\n",
       "      <td>...</td>\n",
       "      <td>-1</td>\n",
       "      <td>-1</td>\n",
       "      <td>-1</td>\n",
       "      <td>0</td>\n",
       "      <td>0</td>\n",
       "      <td>0.000000</td>\n",
       "      <td>0</td>\n",
       "      <td>0.000340</td>\n",
       "      <td>0</td>\n",
       "      <td>0</td>\n",
       "    </tr>\n",
       "    <tr>\n",
       "      <th>ffffa5c46bc8de74f5a4554e74e239c8dee6b9baf388145b2c3d01967fcce461</th>\n",
       "      <td>2018-03-23</td>\n",
       "      <td>0.754129</td>\n",
       "      <td>0</td>\n",
       "      <td>0.015838</td>\n",
       "      <td>0.714486</td>\n",
       "      <td>0.000993</td>\n",
       "      <td>0.408849</td>\n",
       "      <td>0.0</td>\n",
       "      <td>0.050048</td>\n",
       "      <td>0.046125</td>\n",
       "      <td>...</td>\n",
       "      <td>-1</td>\n",
       "      <td>-1</td>\n",
       "      <td>-1</td>\n",
       "      <td>1</td>\n",
       "      <td>0</td>\n",
       "      <td>0.949723</td>\n",
       "      <td>1</td>\n",
       "      <td>0.002502</td>\n",
       "      <td>2</td>\n",
       "      <td>1</td>\n",
       "    </tr>\n",
       "    <tr>\n",
       "      <th>fffff1d38b785cef84adeace64f8f83db3a0c31e8d92eaba8b115f71cab04681</th>\n",
       "      <td>2018-03-14</td>\n",
       "      <td>0.982175</td>\n",
       "      <td>0</td>\n",
       "      <td>0.000077</td>\n",
       "      <td>0.992880</td>\n",
       "      <td>0.000809</td>\n",
       "      <td>0.119165</td>\n",
       "      <td>0.0</td>\n",
       "      <td>0.014092</td>\n",
       "      <td>0.013455</td>\n",
       "      <td>...</td>\n",
       "      <td>-1</td>\n",
       "      <td>-1</td>\n",
       "      <td>-1</td>\n",
       "      <td>0</td>\n",
       "      <td>0</td>\n",
       "      <td>0.000000</td>\n",
       "      <td>0</td>\n",
       "      <td>0.003184</td>\n",
       "      <td>0</td>\n",
       "      <td>0</td>\n",
       "    </tr>\n",
       "  </tbody>\n",
       "</table>\n",
       "<p>458913 rows × 174 columns</p>\n",
       "</div>"
      ],
      "text/plain": [
       "                                                           S_2       P_2  \\\n",
       "customer_ID                                                                \n",
       "0000099d6bd597052cdcda90ffabf56573fe9d7c79be5fb...  2018-03-13  0.934745   \n",
       "00000fd6641609c6ece5454664794f0340ad84dddce9a26...  2018-03-25  0.880519   \n",
       "00001b22f846c82c51f6e3958ccd81970162bae8b007e80...  2018-03-12  0.880875   \n",
       "000041bdba6ecadd89a52d11886e8eaaec9325906c97233...  2018-03-29  0.621776   \n",
       "00007889e4fcd2614b6cbe7f8f3d2e5c728eca32d9eb8ad...  2018-03-30  0.871900   \n",
       "...                                                        ...       ...   \n",
       "ffff41c8a52833b56430603969b9ca48d208e7c192c6a40...  2018-03-31  0.844229   \n",
       "ffff518bb2075e4816ee3fe9f3b152c57fc0e6f01bf7fdd...  2018-03-22  0.831279   \n",
       "ffff9984b999fccb2b6127635ed0736dda94e544e67e026...  2018-03-07  0.800522   \n",
       "ffffa5c46bc8de74f5a4554e74e239c8dee6b9baf388145...  2018-03-23  0.754129   \n",
       "fffff1d38b785cef84adeace64f8f83db3a0c31e8d92eab...  2018-03-14  0.982175   \n",
       "\n",
       "                                                    D_39       B_1       B_2  \\\n",
       "customer_ID                                                                    \n",
       "0000099d6bd597052cdcda90ffabf56573fe9d7c79be5fb...     0  0.009382  1.007647   \n",
       "00000fd6641609c6ece5454664794f0340ad84dddce9a26...     6  0.034684  1.004028   \n",
       "00001b22f846c82c51f6e3958ccd81970162bae8b007e80...     0  0.004284  0.812649   \n",
       "000041bdba6ecadd89a52d11886e8eaaec9325906c97233...     0  0.012564  1.006183   \n",
       "00007889e4fcd2614b6cbe7f8f3d2e5c728eca32d9eb8ad...     0  0.007679  0.815746   \n",
       "...                                                  ...       ...       ...   \n",
       "ffff41c8a52833b56430603969b9ca48d208e7c192c6a40...    15  0.028515  1.009866   \n",
       "ffff518bb2075e4816ee3fe9f3b152c57fc0e6f01bf7fdd...     1  0.292360  0.055656   \n",
       "ffff9984b999fccb2b6127635ed0736dda94e544e67e026...     9  0.020563  1.007023   \n",
       "ffffa5c46bc8de74f5a4554e74e239c8dee6b9baf388145...     0  0.015838  0.714486   \n",
       "fffff1d38b785cef84adeace64f8f83db3a0c31e8d92eab...     0  0.000077  0.992880   \n",
       "\n",
       "                                                         R_1       S_3  D_41  \\\n",
       "customer_ID                                                                    \n",
       "0000099d6bd597052cdcda90ffabf56573fe9d7c79be5fb...  0.006104  0.135021   0.0   \n",
       "00000fd6641609c6ece5454664794f0340ad84dddce9a26...  0.006911  0.165509   0.0   \n",
       "00001b22f846c82c51f6e3958ccd81970162bae8b007e80...  0.006450       NaN   0.0   \n",
       "000041bdba6ecadd89a52d11886e8eaaec9325906c97233...  0.007829  0.287766   0.0   \n",
       "00007889e4fcd2614b6cbe7f8f3d2e5c728eca32d9eb8ad...  0.001247       NaN   0.0   \n",
       "...                                                      ...       ...   ...   \n",
       "ffff41c8a52833b56430603969b9ca48d208e7c192c6a40...  0.001928  0.128707   0.0   \n",
       "ffff518bb2075e4816ee3fe9f3b152c57fc0e6f01bf7fdd...  0.006953       NaN   0.0   \n",
       "ffff9984b999fccb2b6127635ed0736dda94e544e67e026...  0.000957  0.066648   0.0   \n",
       "ffffa5c46bc8de74f5a4554e74e239c8dee6b9baf388145...  0.000993  0.408849   0.0   \n",
       "fffff1d38b785cef84adeace64f8f83db3a0c31e8d92eab...  0.000809  0.119165   0.0   \n",
       "\n",
       "                                                         B_3      D_43  ...  \\\n",
       "customer_ID                                                             ...   \n",
       "0000099d6bd597052cdcda90ffabf56573fe9d7c79be5fb...  0.007174       NaN  ...   \n",
       "00000fd6641609c6ece5454664794f0340ad84dddce9a26...  0.005068  0.060646  ...   \n",
       "00001b22f846c82c51f6e3958ccd81970162bae8b007e80...  0.007196       NaN  ...   \n",
       "000041bdba6ecadd89a52d11886e8eaaec9325906c97233...  0.009937  0.046104  ...   \n",
       "00007889e4fcd2614b6cbe7f8f3d2e5c728eca32d9eb8ad...  0.005528  0.044671  ...   \n",
       "...                                                      ...       ...  ...   \n",
       "ffff41c8a52833b56430603969b9ca48d208e7c192c6a40...  0.005893  0.113053  ...   \n",
       "ffff518bb2075e4816ee3fe9f3b152c57fc0e6f01bf7fdd...  0.233078  0.134540  ...   \n",
       "ffff9984b999fccb2b6127635ed0736dda94e544e67e026...  0.006314  0.049778  ...   \n",
       "ffffa5c46bc8de74f5a4554e74e239c8dee6b9baf388145...  0.050048  0.046125  ...   \n",
       "fffff1d38b785cef84adeace64f8f83db3a0c31e8d92eab...  0.014092  0.013455  ...   \n",
       "\n",
       "                                                    D_136  D_137  D_138  \\\n",
       "customer_ID                                                               \n",
       "0000099d6bd597052cdcda90ffabf56573fe9d7c79be5fb...     -1     -1     -1   \n",
       "00000fd6641609c6ece5454664794f0340ad84dddce9a26...     -1     -1     -1   \n",
       "00001b22f846c82c51f6e3958ccd81970162bae8b007e80...     -1     -1     -1   \n",
       "000041bdba6ecadd89a52d11886e8eaaec9325906c97233...     -1     -1     -1   \n",
       "00007889e4fcd2614b6cbe7f8f3d2e5c728eca32d9eb8ad...     -1     -1     -1   \n",
       "...                                                   ...    ...    ...   \n",
       "ffff41c8a52833b56430603969b9ca48d208e7c192c6a40...     -1     -1     -1   \n",
       "ffff518bb2075e4816ee3fe9f3b152c57fc0e6f01bf7fdd...     -1     -1     -1   \n",
       "ffff9984b999fccb2b6127635ed0736dda94e544e67e026...     -1     -1     -1   \n",
       "ffffa5c46bc8de74f5a4554e74e239c8dee6b9baf388145...     -1     -1     -1   \n",
       "fffff1d38b785cef84adeace64f8f83db3a0c31e8d92eab...     -1     -1     -1   \n",
       "\n",
       "                                                    D_139  D_140     D_141  \\\n",
       "customer_ID                                                                  \n",
       "0000099d6bd597052cdcda90ffabf56573fe9d7c79be5fb...      0      0  0.000000   \n",
       "00000fd6641609c6ece5454664794f0340ad84dddce9a26...      0      0  0.000000   \n",
       "00001b22f846c82c51f6e3958ccd81970162bae8b007e80...      0      0  0.000000   \n",
       "000041bdba6ecadd89a52d11886e8eaaec9325906c97233...      0      0  0.000000   \n",
       "00007889e4fcd2614b6cbe7f8f3d2e5c728eca32d9eb8ad...      0      0  0.000000   \n",
       "...                                                   ...    ...       ...   \n",
       "ffff41c8a52833b56430603969b9ca48d208e7c192c6a40...      0      0  0.000000   \n",
       "ffff518bb2075e4816ee3fe9f3b152c57fc0e6f01bf7fdd...      0      0  0.000000   \n",
       "ffff9984b999fccb2b6127635ed0736dda94e544e67e026...      0      0  0.000000   \n",
       "ffffa5c46bc8de74f5a4554e74e239c8dee6b9baf388145...      1      0  0.949723   \n",
       "fffff1d38b785cef84adeace64f8f83db3a0c31e8d92eab...      0      0  0.000000   \n",
       "\n",
       "                                                    D_143     D_144  D_145  \\\n",
       "customer_ID                                                                  \n",
       "0000099d6bd597052cdcda90ffabf56573fe9d7c79be5fb...      0  0.002970      0   \n",
       "00000fd6641609c6ece5454664794f0340ad84dddce9a26...      0  0.003169      0   \n",
       "00001b22f846c82c51f6e3958ccd81970162bae8b007e80...      0  0.000834      0   \n",
       "000041bdba6ecadd89a52d11886e8eaaec9325906c97233...      0  0.005560      0   \n",
       "00007889e4fcd2614b6cbe7f8f3d2e5c728eca32d9eb8ad...      0  0.006944      0   \n",
       "...                                                   ...       ...    ...   \n",
       "ffff41c8a52833b56430603969b9ca48d208e7c192c6a40...      0  0.003009      0   \n",
       "ffff518bb2075e4816ee3fe9f3b152c57fc0e6f01bf7fdd...      0  0.009230      0   \n",
       "ffff9984b999fccb2b6127635ed0736dda94e544e67e026...      0  0.000340      0   \n",
       "ffffa5c46bc8de74f5a4554e74e239c8dee6b9baf388145...      1  0.002502      2   \n",
       "fffff1d38b785cef84adeace64f8f83db3a0c31e8d92eab...      0  0.003184      0   \n",
       "\n",
       "                                                    target  \n",
       "customer_ID                                                 \n",
       "0000099d6bd597052cdcda90ffabf56573fe9d7c79be5fb...       0  \n",
       "00000fd6641609c6ece5454664794f0340ad84dddce9a26...       0  \n",
       "00001b22f846c82c51f6e3958ccd81970162bae8b007e80...       0  \n",
       "000041bdba6ecadd89a52d11886e8eaaec9325906c97233...       0  \n",
       "00007889e4fcd2614b6cbe7f8f3d2e5c728eca32d9eb8ad...       0  \n",
       "...                                                    ...  \n",
       "ffff41c8a52833b56430603969b9ca48d208e7c192c6a40...       0  \n",
       "ffff518bb2075e4816ee3fe9f3b152c57fc0e6f01bf7fdd...       0  \n",
       "ffff9984b999fccb2b6127635ed0736dda94e544e67e026...       0  \n",
       "ffffa5c46bc8de74f5a4554e74e239c8dee6b9baf388145...       1  \n",
       "fffff1d38b785cef84adeace64f8f83db3a0c31e8d92eab...       0  \n",
       "\n",
       "[458913 rows x 174 columns]"
      ]
     },
     "execution_count": 8,
     "metadata": {},
     "output_type": "execute_result"
    }
   ],
   "source": [
    "df_train.set_index('customer_ID')"
   ]
  },
  {
   "cell_type": "code",
   "execution_count": 9,
   "id": "60e09322",
   "metadata": {
    "execution": {
     "iopub.execute_input": "2022-08-28T18:26:12.259420Z",
     "iopub.status.busy": "2022-08-28T18:26:12.259001Z",
     "iopub.status.idle": "2022-08-28T18:26:12.789625Z",
     "shell.execute_reply": "2022-08-28T18:26:12.788667Z"
    },
    "papermill": {
     "duration": 0.543993,
     "end_time": "2022-08-28T18:26:12.792399",
     "exception": false,
     "start_time": "2022-08-28T18:26:12.248406",
     "status": "completed"
    },
    "tags": []
   },
   "outputs": [],
   "source": [
    "# Remove redundant variables: customer_ID and S_2 (date).\n",
    "df_train.drop(df_train.iloc[:,0:2], axis=1, inplace=True)\n",
    "df_train = df_train.apply(abs)"
   ]
  },
  {
   "cell_type": "code",
   "execution_count": 10,
   "id": "4df9ad22",
   "metadata": {
    "execution": {
     "iopub.execute_input": "2022-08-28T18:26:12.813312Z",
     "iopub.status.busy": "2022-08-28T18:26:12.812902Z",
     "iopub.status.idle": "2022-08-28T18:26:12.946049Z",
     "shell.execute_reply": "2022-08-28T18:26:12.945076Z"
    },
    "papermill": {
     "duration": 0.14702,
     "end_time": "2022-08-28T18:26:12.949001",
     "exception": false,
     "start_time": "2022-08-28T18:26:12.801981",
     "status": "completed"
    },
    "tags": []
   },
   "outputs": [
    {
     "data": {
      "text/plain": [
       "21"
      ]
     },
     "execution_count": 10,
     "metadata": {},
     "output_type": "execute_result"
    }
   ],
   "source": [
    "del df_train_labels\n",
    "gc.collect()"
   ]
  },
  {
   "cell_type": "code",
   "execution_count": 11,
   "id": "c0be0193",
   "metadata": {
    "execution": {
     "iopub.execute_input": "2022-08-28T18:26:12.970706Z",
     "iopub.status.busy": "2022-08-28T18:26:12.969501Z",
     "iopub.status.idle": "2022-08-28T18:26:13.256987Z",
     "shell.execute_reply": "2022-08-28T18:26:13.255758Z"
    },
    "papermill": {
     "duration": 0.300835,
     "end_time": "2022-08-28T18:26:13.259495",
     "exception": false,
     "start_time": "2022-08-28T18:26:12.958660",
     "status": "completed"
    },
    "tags": []
   },
   "outputs": [
    {
     "name": "stdout",
     "output_type": "stream",
     "text": [
      "             P_2  D_39       B_1       B_2       R_1       S_3      D_41  \\\n",
      "438098  0.853187     9  0.028483  1.008358  0.002882  0.083235  0.000000   \n",
      "385471  0.555901     0  0.007526  0.817856  0.003929  0.171146  0.000000   \n",
      "174153  0.584148    18  0.022949  1.008394  0.009700  0.032366  0.000000   \n",
      "299146  0.661478     0  0.001480  1.005513  0.002979  0.562007  0.000000   \n",
      "194173  0.773791     0  0.010180  0.814095  0.005119       NaN  0.000000   \n",
      "...          ...   ...       ...       ...       ...       ...       ...   \n",
      "128403  0.788535     0  0.001267  0.817270  0.008728       NaN  0.000000   \n",
      "326851  0.631382     0  0.006108  0.817460  0.003505  0.251461  0.000000   \n",
      "317539  0.625971    11  0.147666  0.464211  0.504940  0.043966  0.205114   \n",
      "70492   0.473280     0  0.797501  0.030879  0.250151  0.881187  0.000000   \n",
      "64385   0.598743     0  0.005649  1.002087  0.000767  0.176330  0.000000   \n",
      "\n",
      "             B_3      D_43  D_44  ...  D_136  D_137  D_138  D_139  D_140  \\\n",
      "438098  0.002710  0.063084     0  ...      1      1      1      0      0   \n",
      "385471  0.006499  0.261797     2  ...      1      1      1      0      0   \n",
      "174153  0.001202  0.094080     0  ...      1      1      1      0      0   \n",
      "299146  0.009634  0.123538     0  ...      1      1      1      0      0   \n",
      "194173  0.007008  0.006193     0  ...      1      1      1      0      0   \n",
      "...          ...       ...   ...  ...    ...    ...    ...    ...    ...   \n",
      "128403  0.007228       NaN     0  ...      1      1      1      0      0   \n",
      "326851  0.012440  0.489400     0  ...      1      1      1      1      0   \n",
      "317539  0.133683  0.058051     2  ...      1      1      1      0      0   \n",
      "70492   0.143871  0.280707     0  ...      1      0      0      0      0   \n",
      "64385   0.000687  0.135390     0  ...      1      1      1      0      0   \n",
      "\n",
      "          D_141  D_143     D_144  D_145  target  \n",
      "438098  0.00000      0  0.003082      0       0  \n",
      "385471  0.00000      0  0.006603      0       0  \n",
      "174153  0.00000      0  0.000187      0       0  \n",
      "299146  0.00000      0  0.007494      0       0  \n",
      "194173  0.00000      0  0.003608      0       0  \n",
      "...         ...    ...       ...    ...     ...  \n",
      "128403  0.00000      0  0.008250      0       0  \n",
      "326851  0.91865      1  0.005992     10       0  \n",
      "317539  0.00000      0  0.007771      0       0  \n",
      "70492   0.00000      0  0.007961      0       0  \n",
      "64385   0.00000      0  0.002144      0       0  \n",
      "\n",
      "[45891 rows x 173 columns]\n"
     ]
    }
   ],
   "source": [
    "from sklearn.pipeline import Pipeline\n",
    "from sklearn.impute import SimpleImputer\n",
    "from sklearn.preprocessing import StandardScaler, OneHotEncoder\n",
    "from sklearn.compose import ColumnTransformer #transform different types\n",
    "\n",
    "# Subsample 10% of dataset to reduce time at an expense of performance to ensure ML model runs efficiently fast.\n",
    "df_train_sample = df_train.copy().sample(frac=0.1)\n",
    "# Pipe-line preprocessing for numerical and categorical features to prevent error in codes and leaking of data during training:\n",
    "features = df_train_sample.drop('target', axis=1).columns\n",
    "X = df_train_sample[features].copy()\n",
    "y = df_train_sample['target'].copy()\n",
    "\n",
    "print(df_train_sample)"
   ]
  },
  {
   "cell_type": "code",
   "execution_count": 12,
   "id": "5d57d11c",
   "metadata": {
    "execution": {
     "iopub.execute_input": "2022-08-28T18:26:13.281282Z",
     "iopub.status.busy": "2022-08-28T18:26:13.280901Z",
     "iopub.status.idle": "2022-08-28T18:26:13.286890Z",
     "shell.execute_reply": "2022-08-28T18:26:13.285698Z"
    },
    "papermill": {
     "duration": 0.019961,
     "end_time": "2022-08-28T18:26:13.289284",
     "exception": false,
     "start_time": "2022-08-28T18:26:13.269323",
     "status": "completed"
    },
    "tags": []
   },
   "outputs": [],
   "source": [
    "categorical_features = [ 'B_30','B_38', 'D_114', 'D_116', 'D_117', 'D_120', 'D_126', 'D_63', 'D_64', 'D_66', 'D_68']\n",
    "categorical_transformer = Pipeline(steps=[\n",
    "    ('imputer', SimpleImputer()),\n",
    "    ('onehot', OneHotEncoder(handle_unknown='ignore'))])"
   ]
  },
  {
   "cell_type": "code",
   "execution_count": 13,
   "id": "81c85c10",
   "metadata": {
    "execution": {
     "iopub.execute_input": "2022-08-28T18:26:13.310599Z",
     "iopub.status.busy": "2022-08-28T18:26:13.310174Z",
     "iopub.status.idle": "2022-08-28T18:26:13.316244Z",
     "shell.execute_reply": "2022-08-28T18:26:13.315274Z"
    },
    "papermill": {
     "duration": 0.019262,
     "end_time": "2022-08-28T18:26:13.318493",
     "exception": false,
     "start_time": "2022-08-28T18:26:13.299231",
     "status": "completed"
    },
    "tags": []
   },
   "outputs": [],
   "source": [
    "numerical_features = [x for x in features if x not in categorical_features]\n",
    "numerical_transformer = Pipeline(steps=[\n",
    "    ('imputer', SimpleImputer()),\n",
    "    ('scaler', StandardScaler())])\n"
   ]
  },
  {
   "cell_type": "code",
   "execution_count": 14,
   "id": "a359e790",
   "metadata": {
    "execution": {
     "iopub.execute_input": "2022-08-28T18:26:13.340369Z",
     "iopub.status.busy": "2022-08-28T18:26:13.339344Z",
     "iopub.status.idle": "2022-08-28T18:26:13.345044Z",
     "shell.execute_reply": "2022-08-28T18:26:13.344216Z"
    },
    "papermill": {
     "duration": 0.019292,
     "end_time": "2022-08-28T18:26:13.347321",
     "exception": false,
     "start_time": "2022-08-28T18:26:13.328029",
     "status": "completed"
    },
    "tags": []
   },
   "outputs": [],
   "source": [
    "data_transformer = ColumnTransformer(\n",
    "    transformers=[\n",
    "        ('numerical', numerical_transformer, numerical_features),\n",
    "        ('categorical', categorical_transformer, categorical_features)], \n",
    "        remainder='passthrough') "
   ]
  },
  {
   "cell_type": "code",
   "execution_count": 15,
   "id": "76926eb5",
   "metadata": {
    "execution": {
     "iopub.execute_input": "2022-08-28T18:26:13.368607Z",
     "iopub.status.busy": "2022-08-28T18:26:13.367812Z",
     "iopub.status.idle": "2022-08-28T18:26:13.411249Z",
     "shell.execute_reply": "2022-08-28T18:26:13.410043Z"
    },
    "papermill": {
     "duration": 0.056938,
     "end_time": "2022-08-28T18:26:13.413827",
     "exception": false,
     "start_time": "2022-08-28T18:26:13.356889",
     "status": "completed"
    },
    "tags": []
   },
   "outputs": [],
   "source": [
    "from sklearn.model_selection import train_test_split, GridSearchCV   \n",
    "# Train-test validation approach.\n",
    "X_train, X_test, y_train, y_test = train_test_split(X, y, test_size=0.3, random_state=1)\n"
   ]
  },
  {
   "cell_type": "code",
   "execution_count": 16,
   "id": "07cc3b49",
   "metadata": {
    "execution": {
     "iopub.execute_input": "2022-08-28T18:26:13.434791Z",
     "iopub.status.busy": "2022-08-28T18:26:13.434342Z",
     "iopub.status.idle": "2022-08-28T18:26:13.553888Z",
     "shell.execute_reply": "2022-08-28T18:26:13.552637Z"
    },
    "papermill": {
     "duration": 0.133049,
     "end_time": "2022-08-28T18:26:13.556544",
     "exception": false,
     "start_time": "2022-08-28T18:26:13.423495",
     "status": "completed"
    },
    "tags": []
   },
   "outputs": [
    {
     "data": {
      "text/plain": [
       "105"
      ]
     },
     "execution_count": 16,
     "metadata": {},
     "output_type": "execute_result"
    }
   ],
   "source": [
    "del df_train, df_train_sample, features\n",
    "gc.collect()"
   ]
  },
  {
   "cell_type": "code",
   "execution_count": 17,
   "id": "a747c93b",
   "metadata": {
    "execution": {
     "iopub.execute_input": "2022-08-28T18:26:13.577672Z",
     "iopub.status.busy": "2022-08-28T18:26:13.577289Z",
     "iopub.status.idle": "2022-08-28T18:26:13.582316Z",
     "shell.execute_reply": "2022-08-28T18:26:13.581138Z"
    },
    "papermill": {
     "duration": 0.018224,
     "end_time": "2022-08-28T18:26:13.584475",
     "exception": false,
     "start_time": "2022-08-28T18:26:13.566251",
     "status": "completed"
    },
    "tags": []
   },
   "outputs": [],
   "source": [
    "# Set parameters for imputer on numerical and categorical features.\n",
    "param_grid = {\n",
    "    'data_transformer__numerical__imputer__strategy': ['mean', 'median'] ,\n",
    "    'data_transformer__categorical__imputer__strategy': ['constant','most_frequent']\n",
    "}\n"
   ]
  },
  {
   "cell_type": "code",
   "execution_count": 18,
   "id": "d8d047e6",
   "metadata": {
    "execution": {
     "iopub.execute_input": "2022-08-28T18:26:13.605922Z",
     "iopub.status.busy": "2022-08-28T18:26:13.605177Z",
     "iopub.status.idle": "2022-08-28T18:44:27.939298Z",
     "shell.execute_reply": "2022-08-28T18:44:27.937512Z"
    },
    "papermill": {
     "duration": 1094.363192,
     "end_time": "2022-08-28T18:44:27.957330",
     "exception": false,
     "start_time": "2022-08-28T18:26:13.594138",
     "status": "completed"
    },
    "tags": []
   },
   "outputs": [
    {
     "name": "stdout",
     "output_type": "stream",
     "text": [
      "0.8934101868227573\n",
      "{'data_transformer__categorical__imputer__strategy': 'constant', 'data_transformer__numerical__imputer__strategy': 'mean'}\n",
      "Pipeline(steps=[('data_transformer',\n",
      "                 ColumnTransformer(remainder='passthrough',\n",
      "                                   transformers=[('numerical',\n",
      "                                                  Pipeline(steps=[('imputer',\n",
      "                                                                   SimpleImputer()),\n",
      "                                                                  ('scaler',\n",
      "                                                                   StandardScaler())]),\n",
      "                                                  ['P_2', 'D_39', 'B_1', 'B_2',\n",
      "                                                   'R_1', 'S_3', 'D_41', 'B_3',\n",
      "                                                   'D_43', 'D_44', 'B_4',\n",
      "                                                   'D_45', 'B_5', 'R_2', 'D_46',\n",
      "                                                   'D_47', 'D_48', 'D_49',\n",
      "                                                   'B_6', 'B_7', 'B_8', 'D_51',\n",
      "                                                   'B_9', 'R_3', 'D_52', 'P_3',\n",
      "                                                   'B_10', 'S_5', 'B_11', 'S_6', ...]),\n",
      "                                                 ('categorical',\n",
      "                                                  Pipeline(steps=[('imputer',\n",
      "                                                                   SimpleImputer(strategy='constant')),\n",
      "                                                                  ('onehot',\n",
      "                                                                   OneHotEncoder(handle_unknown='ignore'))]),\n",
      "                                                  ['B_30', 'B_38', 'D_114',\n",
      "                                                   'D_116', 'D_117', 'D_120',\n",
      "                                                   'D_126', 'D_63', 'D_64',\n",
      "                                                   'D_66', 'D_68'])])),\n",
      "                ('pipe_rfc', RandomForestClassifier(random_state=0))])\n"
     ]
    }
   ],
   "source": [
    "# RandomForest Model\n",
    "from sklearn.metrics import mean_squared_error, r2_score, mean_absolute_error, accuracy_score\n",
    "from sklearn.ensemble import RandomForestClassifier\n",
    "pipe_rfc = Pipeline(steps=[('data_transformer', data_transformer),\n",
    "                     ('pipe_rfc', RandomForestClassifier(random_state=0))])  # ,\n",
    "\n",
    "grid_rfc = GridSearchCV(pipe_rfc, param_grid=param_grid, cv = 10) # , cv=10\n",
    "grid_rfc.fit(X_train, y_train.values.ravel()); \n",
    "\n",
    "print(grid_rfc.best_score_) \n",
    "print(grid_rfc.best_params_)\n",
    "print(grid_rfc.best_estimator_)"
   ]
  },
  {
   "cell_type": "code",
   "execution_count": 19,
   "id": "182f77c3",
   "metadata": {
    "execution": {
     "iopub.execute_input": "2022-08-28T18:44:27.980637Z",
     "iopub.status.busy": "2022-08-28T18:44:27.979386Z",
     "iopub.status.idle": "2022-08-28T18:44:28.228119Z",
     "shell.execute_reply": "2022-08-28T18:44:28.226897Z"
    },
    "papermill": {
     "duration": 0.26315,
     "end_time": "2022-08-28T18:44:28.230514",
     "exception": false,
     "start_time": "2022-08-28T18:44:27.967364",
     "status": "completed"
    },
    "tags": []
   },
   "outputs": [
    {
     "data": {
      "text/plain": [
       "213"
      ]
     },
     "execution_count": 19,
     "metadata": {},
     "output_type": "execute_result"
    }
   ],
   "source": [
    "gc.collect()"
   ]
  },
  {
   "cell_type": "code",
   "execution_count": 20,
   "id": "0cf86c1e",
   "metadata": {
    "execution": {
     "iopub.execute_input": "2022-08-28T18:44:28.253011Z",
     "iopub.status.busy": "2022-08-28T18:44:28.252333Z",
     "iopub.status.idle": "2022-08-28T18:44:29.286593Z",
     "shell.execute_reply": "2022-08-28T18:44:29.285501Z"
    },
    "papermill": {
     "duration": 1.048411,
     "end_time": "2022-08-28T18:44:29.289078",
     "exception": false,
     "start_time": "2022-08-28T18:44:28.240667",
     "status": "completed"
    },
    "tags": []
   },
   "outputs": [
    {
     "data": {
      "image/png": "[encoded data removed]",
      "text/plain": [
       "<Figure size 432x288 with 2 Axes>"
      ]
     },
     "metadata": {
      "needs_background": "light"
     },
     "output_type": "display_data"
    }
   ],
   "source": [
    "from sklearn.metrics import ConfusionMatrixDisplay, confusion_matrix, classification_report\n",
    "import matplotlib.pyplot as plt\n",
    "\n",
    "y_pred_rfc = grid_rfc.predict(X_test)\n",
    "y_pred_prob_rfc = grid_rfc.predict_proba(X_test)\n",
    "cm_rfc = confusion_matrix(y_test, y_pred_rfc, labels= grid_rfc.classes_)\n",
    "\n",
    "disp_rfc = ConfusionMatrixDisplay(confusion_matrix=cm_rfc)\n",
    "disp_rfc.plot()\n",
    "plt.show()"
   ]
  },
  {
   "cell_type": "code",
   "execution_count": 21,
   "id": "23a93d90",
   "metadata": {
    "execution": {
     "iopub.execute_input": "2022-08-28T18:44:29.312991Z",
     "iopub.status.busy": "2022-08-28T18:44:29.311697Z",
     "iopub.status.idle": "2022-08-28T18:44:29.370278Z",
     "shell.execute_reply": "2022-08-28T18:44:29.368973Z"
    },
    "papermill": {
     "duration": 0.072962,
     "end_time": "2022-08-28T18:44:29.372834",
     "exception": false,
     "start_time": "2022-08-28T18:44:29.299872",
     "status": "completed"
    },
    "tags": []
   },
   "outputs": [
    {
     "name": "stdout",
     "output_type": "stream",
     "text": [
      "              precision    recall  f1-score   support\n",
      "\n",
      "           0       0.92      0.93      0.92     10176\n",
      "           1       0.80      0.77      0.78      3592\n",
      "\n",
      "    accuracy                           0.89     13768\n",
      "   macro avg       0.86      0.85      0.85     13768\n",
      "weighted avg       0.89      0.89      0.89     13768\n",
      "\n",
      "accuracy score: 0.8878558977338756\n",
      "recall score: [0.93111242 0.7653118 ]\n",
      "precision score: [0.91829812 0.79681159]\n",
      "f1 score: [0.92466088 0.78074411]\n"
     ]
    }
   ],
   "source": [
    "from sklearn.metrics import precision_recall_curve\n",
    "from sklearn.metrics import accuracy_score, precision_score, recall_score, f1_score, roc_auc_score\n",
    "\n",
    "print(classification_report(y_test, y_pred_rfc))\n",
    "print('accuracy score:', accuracy_score(y_test, y_pred_rfc)) # overall accuracy score: true positive+true negative/total observations\n",
    "print('recall score:', recall_score(y_test, y_pred_rfc, average=None)) # recall score for passenger that survives is not very good, recommend to adjust threshold to get better and balanced score.\n",
    "print('precision score:', precision_score(y_test, y_pred_rfc, average=None))\n",
    "print('f1 score:', f1_score(y_test, y_pred_rfc, average=None))"
   ]
  },
  {
   "cell_type": "code",
   "execution_count": 22,
   "id": "a6888061",
   "metadata": {
    "execution": {
     "iopub.execute_input": "2022-08-28T18:44:29.395702Z",
     "iopub.status.busy": "2022-08-28T18:44:29.394843Z",
     "iopub.status.idle": "2022-08-28T18:44:29.988877Z",
     "shell.execute_reply": "2022-08-28T18:44:29.987989Z"
    },
    "papermill": {
     "duration": 0.6083,
     "end_time": "2022-08-28T18:44:29.991451",
     "exception": false,
     "start_time": "2022-08-28T18:44:29.383151",
     "status": "completed"
    },
    "tags": []
   },
   "outputs": [
    {
     "data": {
      "image/png": "[encoded data removed]",
      "text/plain": [
       "<Figure size 432x288 with 1 Axes>"
      ]
     },
     "metadata": {
      "needs_background": "light"
     },
     "output_type": "display_data"
    }
   ],
   "source": [
    "precision, recall, threshold = precision_recall_curve(y_test.astype(int), grid_rfc.predict_proba(X_test)[:,1])\n",
    "\n",
    "plt.plot(threshold, precision[:-1], c='r', label='Precision')\n",
    "plt.plot(threshold, recall[:-1], c='b', label='Recall')\n",
    "plt.grid()\n",
    "plt.legend()\n",
    "plt.title('Precision-Recall Curve')\n",
    "plt.show()"
   ]
  },
  {
   "cell_type": "code",
   "execution_count": 23,
   "id": "57343390",
   "metadata": {
    "execution": {
     "iopub.execute_input": "2022-08-28T18:44:30.015214Z",
     "iopub.status.busy": "2022-08-28T18:44:30.014808Z",
     "iopub.status.idle": "2022-08-28T18:44:30.974551Z",
     "shell.execute_reply": "2022-08-28T18:44:30.973572Z"
    },
    "papermill": {
     "duration": 0.974346,
     "end_time": "2022-08-28T18:44:30.976925",
     "exception": false,
     "start_time": "2022-08-28T18:44:30.002579",
     "status": "completed"
    },
    "tags": []
   },
   "outputs": [
    {
     "name": "stderr",
     "output_type": "stream",
     "text": [
      "/opt/conda/lib/python3.7/site-packages/sklearn/utils/deprecation.py:87: FutureWarning: Function plot_roc_curve is deprecated; Function :func:`plot_roc_curve` is deprecated in 1.0 and will be removed in 1.2. Use one of the class methods: :meth:`sklearn.metric.RocCurveDisplay.from_predictions` or :meth:`sklearn.metric.RocCurveDisplay.from_estimator`.\n",
      "  warnings.warn(msg, category=FutureWarning)\n"
     ]
    },
    {
     "data": {
      "image/png": "[encoded data removed]",
      "text/plain": [
       "<Figure size 432x288 with 1 Axes>"
      ]
     },
     "metadata": {
      "needs_background": "light"
     },
     "output_type": "display_data"
    },
    {
     "name": "stdout",
     "output_type": "stream",
     "text": [
      "roc auc score: 0.9487969421915927\n"
     ]
    }
   ],
   "source": [
    "from sklearn.metrics import roc_curve, plot_roc_curve\n",
    "\n",
    "ax = plt.gca()  # get current Axes instance\n",
    "plot_roc_curve(grid_rfc, X_test, y_test, ax=ax, name='Random Forest Classifier')\n",
    "plt.show()\n",
    "\n",
    "print('roc auc score:', roc_auc_score(y_test, grid_rfc.predict_proba(X_test)[:,1]))"
   ]
  },
  {
   "cell_type": "code",
   "execution_count": 24,
   "id": "68bd4f26",
   "metadata": {
    "execution": {
     "iopub.execute_input": "2022-08-28T18:44:31.001612Z",
     "iopub.status.busy": "2022-08-28T18:44:31.001219Z",
     "iopub.status.idle": "2022-08-28T18:44:31.127969Z",
     "shell.execute_reply": "2022-08-28T18:44:31.126677Z"
    },
    "papermill": {
     "duration": 0.141674,
     "end_time": "2022-08-28T18:44:31.130236",
     "exception": false,
     "start_time": "2022-08-28T18:44:30.988562",
     "status": "completed"
    },
    "tags": []
   },
   "outputs": [
    {
     "data": {
      "text/plain": [
       "3455"
      ]
     },
     "execution_count": 24,
     "metadata": {},
     "output_type": "execute_result"
    }
   ],
   "source": [
    "del X_train, y_train , X_test, y_test\n",
    "gc.collect()"
   ]
  },
  {
   "cell_type": "code",
   "execution_count": 25,
   "id": "ee23d658",
   "metadata": {
    "execution": {
     "iopub.execute_input": "2022-08-28T18:44:31.155657Z",
     "iopub.status.busy": "2022-08-28T18:44:31.154326Z",
     "iopub.status.idle": "2022-08-28T18:45:08.821043Z",
     "shell.execute_reply": "2022-08-28T18:45:08.820141Z"
    },
    "papermill": {
     "duration": 37.69381,
     "end_time": "2022-08-28T18:45:08.835425",
     "exception": false,
     "start_time": "2022-08-28T18:44:31.141615",
     "status": "completed"
    },
    "tags": []
   },
   "outputs": [
    {
     "name": "stdout",
     "output_type": "stream",
     "text": [
      "924621\n",
      "11363762\n"
     ]
    }
   ],
   "source": [
    "# Pre-process test dataset too\n",
    "df_submission = pd.read_csv(\"../input/amex-default-prediction/sample_submission.csv\", usecols=['customer_ID'], low_memory=True)\n",
    "df_test = pd.read_parquet('../input/train-test-parquet/test.parquet')\n",
    "print(len(df_submission))\n",
    "print(len(df_test))"
   ]
  },
  {
   "cell_type": "code",
   "execution_count": 26,
   "id": "7be7a149",
   "metadata": {
    "execution": {
     "iopub.execute_input": "2022-08-28T18:45:08.860812Z",
     "iopub.status.busy": "2022-08-28T18:45:08.860123Z",
     "iopub.status.idle": "2022-08-28T18:45:13.652158Z",
     "shell.execute_reply": "2022-08-28T18:45:13.650567Z"
    },
    "papermill": {
     "duration": 4.807445,
     "end_time": "2022-08-28T18:45:13.654464",
     "exception": false,
     "start_time": "2022-08-28T18:45:08.847019",
     "status": "completed"
    },
    "tags": []
   },
   "outputs": [
    {
     "name": "stdout",
     "output_type": "stream",
     "text": [
      "                                                customer_ID         S_2  \\\n",
      "8         00000469ba478561f23a92a868bd366de6f6527a684c9a...  2019-10-12   \n",
      "21        00001bf2e77ff879fab36aa4fac689b9ba411dae63ae39...  2019-04-15   \n",
      "34        0000210045da4f81e5f122c6bde5c2a617d03eef67f82c...  2019-10-16   \n",
      "47        00003b41e58ede33b8daf61ab56d9952f17c9ad1c3976c...  2019-04-22   \n",
      "60        00004b22eaeeeb0ec976890c1d9bfc14fd9427e98c4ee9...  2019-10-22   \n",
      "...                                                     ...         ...   \n",
      "11363714  ffff952c631f2c911b8a2a8ca56ea6e656309a83d2f64c...  2019-04-14   \n",
      "11363727  ffffcf5df59e5e0bba2a5ac4578a34e2b5aa64a1546cd3...  2019-10-19   \n",
      "11363740  ffffd61f098cc056dbd7d2a21380c4804bbfe60856f475...  2019-04-06   \n",
      "11363753  ffffddef1fc3643ea179c93245b68dca0f36941cd83977...  2019-04-08   \n",
      "11363761  fffffa7cf7e453e1acc6a1426475d5cb9400859f82ff61...  2019-04-18   \n",
      "\n",
      "               P_2  D_39       B_1       B_2       R_1       S_3      D_41  \\\n",
      "8         0.568930     4  0.010779  1.009347  0.000000  0.149413  0.000000   \n",
      "21        0.841177     4  0.016562  1.009245  0.000000  0.112195  0.000000   \n",
      "34        0.697522     0  0.001484  0.810072  0.000000  0.166165  0.000000   \n",
      "47        0.513186    11  0.149511  0.205678  0.000000  0.181200  0.000000   \n",
      "60        0.254478    26  0.563603  0.038021  0.503154  0.168317  0.000000   \n",
      "...            ...   ...       ...       ...       ...       ...       ...   \n",
      "11363714  0.646915     0  0.011309  0.817037  0.000000  0.162921  0.000000   \n",
      "11363727  0.471303     0  0.084163  0.082507  0.508855  0.857136  0.000000   \n",
      "11363740  0.206425     0  0.019952  1.004201  0.000000  0.321134  0.077758   \n",
      "11363753  0.570670     1  0.049776  0.192895  0.000000  0.230847  0.000000   \n",
      "11363761  0.454546     0  0.000346  0.810128  0.000000       NaN  0.000000   \n",
      "\n",
      "               B_3  ...  D_136  D_137  D_138  D_139  D_140     D_141  \\\n",
      "8         0.003576  ...     -1     -1     -1      0      0  0.000000   \n",
      "21        0.011386  ...     -1     -1     -1      0      0  0.000000   \n",
      "34        0.015938  ...     -1     -1     -1      1      0  0.896224   \n",
      "47        0.498516  ...     -1     -1     -1      1      0  0.919774   \n",
      "60        0.830857  ...     -1     -1     -1      0      0  0.000000   \n",
      "...            ...  ...    ...    ...    ...    ...    ...       ...   \n",
      "11363714  0.028906  ...     -1     -1     -1      0      0  0.000000   \n",
      "11363727  0.070524  ...     -1     -1     -1      0      0  0.000000   \n",
      "11363740  0.014289  ...     -1     -1     -1      0      0  0.000000   \n",
      "11363753  0.099891  ...     -1     -1     -1      0      0  0.000000   \n",
      "11363761  0.003494  ...     -1     -1     -1      0      0  0.000000   \n",
      "\n",
      "             D_142  D_143     D_144  D_145  \n",
      "8              NaN      0  0.003690      0  \n",
      "21             NaN      0  0.000247      0  \n",
      "34        0.150203      1  0.457819      1  \n",
      "47        0.255263      1  0.500924      2  \n",
      "60             NaN      0  0.001558      0  \n",
      "...            ...    ...       ...    ...  \n",
      "11363714       NaN      0  0.003278      0  \n",
      "11363727       NaN      0  0.005432      0  \n",
      "11363740       NaN      0  0.004849      0  \n",
      "11363753       NaN      0  0.007482      0  \n",
      "11363761       NaN      0  0.006442      0  \n",
      "\n",
      "[924621 rows x 190 columns]\n"
     ]
    }
   ],
   "source": [
    "df_test = df_test.groupby('customer_ID').tail(1)\n",
    "print(df_test)"
   ]
  },
  {
   "cell_type": "code",
   "execution_count": 27,
   "id": "0daabf2d",
   "metadata": {
    "execution": {
     "iopub.execute_input": "2022-08-28T18:45:13.679286Z",
     "iopub.status.busy": "2022-08-28T18:45:13.678904Z",
     "iopub.status.idle": "2022-08-28T18:45:14.837375Z",
     "shell.execute_reply": "2022-08-28T18:45:14.836013Z"
    },
    "papermill": {
     "duration": 1.17392,
     "end_time": "2022-08-28T18:45:14.839884",
     "exception": false,
     "start_time": "2022-08-28T18:45:13.665964",
     "status": "completed"
    },
    "tags": []
   },
   "outputs": [
    {
     "name": "stdout",
     "output_type": "stream",
     "text": [
      "               P_2  D_39       B_1       B_2       R_1       S_3      D_41  \\\n",
      "8         0.568930     4  0.010779  1.009347  0.000000  0.149413  0.000000   \n",
      "21        0.841177     4  0.016562  1.009245  0.000000  0.112195  0.000000   \n",
      "34        0.697522     0  0.001484  0.810072  0.000000  0.166165  0.000000   \n",
      "47        0.513186    11  0.149511  0.205678  0.000000  0.181200  0.000000   \n",
      "60        0.254478    26  0.563603  0.038021  0.503154  0.168317  0.000000   \n",
      "...            ...   ...       ...       ...       ...       ...       ...   \n",
      "11363714  0.646915     0  0.011309  0.817037  0.000000  0.162921  0.000000   \n",
      "11363727  0.471303     0  0.084163  0.082507  0.508855  0.857136  0.000000   \n",
      "11363740  0.206425     0  0.019952  1.004201  0.000000  0.321134  0.077758   \n",
      "11363753  0.570670     1  0.049776  0.192895  0.000000  0.230847  0.000000   \n",
      "11363761  0.454546     0  0.000346  0.810128  0.000000       NaN  0.000000   \n",
      "\n",
      "               B_3      D_42      D_43  ...  D_136  D_137  D_138  D_139  \\\n",
      "8         0.003576  0.103745  0.007398  ...      1      1      1      0   \n",
      "21        0.011386       NaN       NaN  ...      1      1      1      0   \n",
      "34        0.015938       NaN  0.105303  ...      1      1      1      1   \n",
      "47        0.498516       NaN  0.211615  ...      1      1      1      1   \n",
      "60        0.830857       NaN  0.071884  ...      1      1      1      0   \n",
      "...            ...       ...       ...  ...    ...    ...    ...    ...   \n",
      "11363714  0.028906       NaN  0.034703  ...      1      1      1      0   \n",
      "11363727  0.070524       NaN  0.760330  ...      1      1      1      0   \n",
      "11363740  0.014289       NaN  0.329028  ...      1      1      1      0   \n",
      "11363753  0.099891       NaN  0.142936  ...      1      1      1      0   \n",
      "11363761  0.003494  0.113041       NaN  ...      1      1      1      0   \n",
      "\n",
      "          D_140     D_141     D_142  D_143     D_144  D_145  \n",
      "8             0  0.000000       NaN      0  0.003690      0  \n",
      "21            0  0.000000       NaN      0  0.000247      0  \n",
      "34            0  0.896224  0.150203      1  0.457819      1  \n",
      "47            0  0.919774  0.255263      1  0.500924      2  \n",
      "60            0  0.000000       NaN      0  0.001558      0  \n",
      "...         ...       ...       ...    ...       ...    ...  \n",
      "11363714      0  0.000000       NaN      0  0.003278      0  \n",
      "11363727      0  0.000000       NaN      0  0.005432      0  \n",
      "11363740      0  0.000000       NaN      0  0.004849      0  \n",
      "11363753      0  0.000000       NaN      0  0.007482      0  \n",
      "11363761      0  0.000000       NaN      0  0.006442      0  \n",
      "\n",
      "[924621 rows x 188 columns]\n",
      "P_2      float32\n",
      "D_39       int16\n",
      "B_1      float32\n",
      "B_2      float32\n",
      "R_1      float32\n",
      "          ...   \n",
      "D_141    float32\n",
      "D_142    float32\n",
      "D_143       int8\n",
      "D_144    float32\n",
      "D_145       int8\n",
      "Length: 188, dtype: object\n"
     ]
    }
   ],
   "source": [
    "df_test.drop(df_test.iloc[:,0:2], axis=1, inplace=True)\n",
    "df_test[['D_63','D_64']] = df_test[['D_63','D_64']].astype('category').apply(lambda x: x.cat.codes)\n",
    "df_test = df_test.apply(abs)\n",
    "\n",
    "#df_test = df_test.drop(df_test.columns[df_test.apply(lambda col: ((col.isnull() | col.isna()).mean().round(5)*100) >= 50)], axis=1)\n",
    "cat_test_var = ['B_30', 'B_38', 'D_114', 'D_116', 'D_117', 'D_120', 'D_126', 'D_63', 'D_64', 'D_66', 'D_68']\n",
    "df_test[cat_test_var] = df_test[cat_test_var].fillna(0)\n",
    "\n",
    "print(df_test)\n",
    "print(df_test.dtypes)"
   ]
  },
  {
   "cell_type": "code",
   "execution_count": 28,
   "id": "3813ee0b",
   "metadata": {
    "execution": {
     "iopub.execute_input": "2022-08-28T18:45:14.865133Z",
     "iopub.status.busy": "2022-08-28T18:45:14.864704Z",
     "iopub.status.idle": "2022-08-28T18:45:15.288846Z",
     "shell.execute_reply": "2022-08-28T18:45:15.287481Z"
    },
    "papermill": {
     "duration": 0.439917,
     "end_time": "2022-08-28T18:45:15.291506",
     "exception": false,
     "start_time": "2022-08-28T18:45:14.851589",
     "status": "completed"
    },
    "tags": []
   },
   "outputs": [
    {
     "name": "stdout",
     "output_type": "stream",
     "text": [
      "P_2      0.517\n",
      "D_39     0.000\n",
      "B_1      0.000\n",
      "B_2      0.005\n",
      "R_1      0.000\n",
      "         ...  \n",
      "D_140    0.000\n",
      "D_141    0.546\n",
      "D_143    0.000\n",
      "D_144    0.000\n",
      "D_145    0.000\n",
      "Length: 172, dtype: float64\n"
     ]
    }
   ],
   "source": [
    "# Check if columns are removed correctly based on number of columns with more than 50% of NAs\n",
    "count_nulls = (df_test.isnull() | df_test.isna()).mean().round(5)*100\n",
    "count_nulls = count_nulls.drop(count_nulls[count_nulls >= 50].index)\n",
    "print(count_nulls)"
   ]
  },
  {
   "cell_type": "code",
   "execution_count": 29,
   "id": "aa95ff16",
   "metadata": {
    "execution": {
     "iopub.execute_input": "2022-08-28T18:45:15.318153Z",
     "iopub.status.busy": "2022-08-28T18:45:15.317706Z",
     "iopub.status.idle": "2022-08-28T18:45:15.601727Z",
     "shell.execute_reply": "2022-08-28T18:45:15.600563Z"
    },
    "papermill": {
     "duration": 0.300276,
     "end_time": "2022-08-28T18:45:15.604312",
     "exception": false,
     "start_time": "2022-08-28T18:45:15.304036",
     "status": "completed"
    },
    "tags": []
   },
   "outputs": [
    {
     "data": {
      "text/plain": [
       "42"
      ]
     },
     "execution_count": 29,
     "metadata": {},
     "output_type": "execute_result"
    }
   ],
   "source": [
    "df_test.isnull().all(axis=1)\n",
    "gc.collect()"
   ]
  },
  {
   "cell_type": "code",
   "execution_count": 30,
   "id": "4df6ef64",
   "metadata": {
    "execution": {
     "iopub.execute_input": "2022-08-28T18:45:15.630308Z",
     "iopub.status.busy": "2022-08-28T18:45:15.629887Z",
     "iopub.status.idle": "2022-08-28T18:46:03.243645Z",
     "shell.execute_reply": "2022-08-28T18:46:03.242572Z"
    },
    "papermill": {
     "duration": 47.640712,
     "end_time": "2022-08-28T18:46:03.256949",
     "exception": false,
     "start_time": "2022-08-28T18:45:15.616237",
     "status": "completed"
    },
    "tags": []
   },
   "outputs": [
    {
     "name": "stdout",
     "output_type": "stream",
     "text": [
      "924621\n",
      "[[0.94 0.06]\n",
      " [1.   0.  ]\n",
      " [0.95 0.05]\n",
      " ...\n",
      " [0.44 0.56]\n",
      " [0.67 0.33]\n",
      " [0.79 0.21]]\n",
      "[0.06 0.   0.05 ... 0.56 0.33 0.21]\n"
     ]
    }
   ],
   "source": [
    "# Predict on test data set\n",
    "test_pred_rfc = grid_rfc.predict(df_test)\n",
    "test_pred_prob_rfc = grid_rfc.predict_proba(df_test)\n",
    "print(len(test_pred_prob_rfc))\n",
    "print(test_pred_prob_rfc)\n",
    "print(test_pred_prob_rfc[:,1])"
   ]
  },
  {
   "cell_type": "code",
   "execution_count": 31,
   "id": "d52a46e7",
   "metadata": {
    "execution": {
     "iopub.execute_input": "2022-08-28T18:46:03.282242Z",
     "iopub.status.busy": "2022-08-28T18:46:03.281649Z",
     "iopub.status.idle": "2022-08-28T18:46:03.300597Z",
     "shell.execute_reply": "2022-08-28T18:46:03.299736Z"
    },
    "papermill": {
     "duration": 0.034579,
     "end_time": "2022-08-28T18:46:03.303125",
     "exception": false,
     "start_time": "2022-08-28T18:46:03.268546",
     "status": "completed"
    },
    "tags": []
   },
   "outputs": [],
   "source": [
    "df_test['prediction'] = None\n",
    "df_test['prediction'] = test_pred_prob_rfc[:,1]"
   ]
  },
  {
   "cell_type": "code",
   "execution_count": 32,
   "id": "ef194aa9",
   "metadata": {
    "execution": {
     "iopub.execute_input": "2022-08-28T18:46:03.329737Z",
     "iopub.status.busy": "2022-08-28T18:46:03.328992Z",
     "iopub.status.idle": "2022-08-28T18:46:05.685519Z",
     "shell.execute_reply": "2022-08-28T18:46:05.684284Z"
    },
    "papermill": {
     "duration": 2.372711,
     "end_time": "2022-08-28T18:46:05.688054",
     "exception": false,
     "start_time": "2022-08-28T18:46:03.315343",
     "status": "completed"
    },
    "tags": []
   },
   "outputs": [
    {
     "name": "stdout",
     "output_type": "stream",
     "text": [
      "                                              customer_ID  prediction\n",
      "0       00000469ba478561f23a92a868bd366de6f6527a684c9a...        0.06\n",
      "1       00001bf2e77ff879fab36aa4fac689b9ba411dae63ae39...        0.00\n",
      "2       0000210045da4f81e5f122c6bde5c2a617d03eef67f82c...        0.05\n",
      "3       00003b41e58ede33b8daf61ab56d9952f17c9ad1c3976c...        0.33\n",
      "4       00004b22eaeeeb0ec976890c1d9bfc14fd9427e98c4ee9...        0.87\n",
      "...                                                   ...         ...\n",
      "924616  ffff952c631f2c911b8a2a8ca56ea6e656309a83d2f64c...        0.07\n",
      "924617  ffffcf5df59e5e0bba2a5ac4578a34e2b5aa64a1546cd3...        0.82\n",
      "924618  ffffd61f098cc056dbd7d2a21380c4804bbfe60856f475...        0.56\n",
      "924619  ffffddef1fc3643ea179c93245b68dca0f36941cd83977...        0.33\n",
      "924620  fffffa7cf7e453e1acc6a1426475d5cb9400859f82ff61...        0.21\n",
      "\n",
      "[924621 rows x 2 columns]\n"
     ]
    }
   ],
   "source": [
    "submission = pd.DataFrame({'customer_ID': df_submission.customer_ID, 'prediction': test_pred_prob_rfc[:,1]})\n",
    "submission.to_csv('submission.csv', index=False)\n",
    "print(submission)"
   ]
  },
  {
   "cell_type": "markdown",
   "id": "7d4016dd",
   "metadata": {
    "papermill": {
     "duration": 0.011585,
     "end_time": "2022-08-28T18:46:05.711289",
     "exception": false,
     "start_time": "2022-08-28T18:46:05.699704",
     "status": "completed"
    },
    "tags": []
   },
   "source": [
    "##### Check if submission.csv file has the same format as sample_submission file."
   ]
  },
  {
   "cell_type": "code",
   "execution_count": 33,
   "id": "f4348068",
   "metadata": {
    "execution": {
     "iopub.execute_input": "2022-08-28T18:46:05.736764Z",
     "iopub.status.busy": "2022-08-28T18:46:05.736361Z",
     "iopub.status.idle": "2022-08-28T18:46:06.835664Z",
     "shell.execute_reply": "2022-08-28T18:46:06.834122Z"
    },
    "papermill": {
     "duration": 1.115229,
     "end_time": "2022-08-28T18:46:06.838289",
     "exception": false,
     "start_time": "2022-08-28T18:46:05.723060",
     "status": "completed"
    },
    "tags": []
   },
   "outputs": [
    {
     "name": "stdout",
     "output_type": "stream",
     "text": [
      "                                              customer_ID  prediction\n",
      "0       00000469ba478561f23a92a868bd366de6f6527a684c9a...        0.06\n",
      "1       00001bf2e77ff879fab36aa4fac689b9ba411dae63ae39...        0.00\n",
      "2       0000210045da4f81e5f122c6bde5c2a617d03eef67f82c...        0.05\n",
      "3       00003b41e58ede33b8daf61ab56d9952f17c9ad1c3976c...        0.33\n",
      "4       00004b22eaeeeb0ec976890c1d9bfc14fd9427e98c4ee9...        0.87\n",
      "...                                                   ...         ...\n",
      "924616  ffff952c631f2c911b8a2a8ca56ea6e656309a83d2f64c...        0.07\n",
      "924617  ffffcf5df59e5e0bba2a5ac4578a34e2b5aa64a1546cd3...        0.82\n",
      "924618  ffffd61f098cc056dbd7d2a21380c4804bbfe60856f475...        0.56\n",
      "924619  ffffddef1fc3643ea179c93245b68dca0f36941cd83977...        0.33\n",
      "924620  fffffa7cf7e453e1acc6a1426475d5cb9400859f82ff61...        0.21\n",
      "\n",
      "[924621 rows x 2 columns]\n"
     ]
    }
   ],
   "source": [
    "submission = pd.read_csv('./submission.csv')\n",
    "print(submission)"
   ]
  }
 ],
 "metadata": {
  "kernelspec": {
   "display_name": "Python 3",
   "language": "python",
   "name": "python3"
  },
  "language_info": {
   "codemirror_mode": {
    "name": "ipython",
    "version": 3
   },
   "file_extension": ".py",
   "mimetype": "text/x-python",
   "name": "python",
   "nbconvert_exporter": "python",
   "pygments_lexer": "ipython3",
   "version": "3.7.12"
  },
  "papermill": {
   "default_parameters": {},
   "duration": 1238.467058,
   "end_time": "2022-08-28T18:46:08.077550",
   "environment_variables": {},
   "exception": null,
   "input_path": "__notebook__.ipynb",
   "output_path": "__notebook__.ipynb",
   "parameters": {},
   "start_time": "2022-08-28T18:25:29.610492",
   "version": "2.3.4"
  }
 },
 "nbformat": 4,
 "nbformat_minor": 5
}
